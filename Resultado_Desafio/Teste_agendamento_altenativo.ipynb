{
 "cells": [
  {
   "cell_type": "markdown",
   "id": "e42e4967",
   "metadata": {},
   "source": [
    "## Ultilizando a biblioteca schedule para o agendamento para geração do arquivo solicitado: \n",
    "- Alternativa na importação do notebook para outra maquina que vá rodar a rotina mensal, sem a necessidade de configurar manualmente atravez do SO ou solução cloud."
   ]
  },
  {
   "cell_type": "markdown",
   "id": "c89a6feb",
   "metadata": {},
   "source": [
    "**SOLUÇÕES TECNICAS ALTERNATIVAS, VULGO GAMBIARRA...**"
   ]
  },
  {
   "cell_type": "code",
   "execution_count": null,
   "id": "288f7a4b",
   "metadata": {},
   "outputs": [],
   "source": [
    "!pip install schedule"
   ]
  },
  {
   "cell_type": "code",
   "execution_count": 2,
   "id": "e3717398",
   "metadata": {},
   "outputs": [
    {
     "name": "stdout",
     "output_type": "stream",
     "text": [
      "Esquema amostra de Agosto:\n",
      "Total de linhas:  588498 \n",
      "Total de colunas:  13\n",
      "root\n",
      " |-- YEAR_MONTH: integer (nullable = true)\n",
      " |-- REGIONAL_OFFICE_NAME: string (nullable = true)\n",
      " |-- ICB_NAME: string (nullable = true)\n",
      " |-- PCO_NAME: string (nullable = true)\n",
      " |-- PRACTICE_NAME: string (nullable = true)\n",
      " |-- CHEMICAL_SUBSTANCE_BNF_DESCR: string (nullable = true)\n",
      " |-- BNF_DESCRIPTION: string (nullable = true)\n",
      " |-- QUANTITY: double (nullable = true)\n",
      " |-- ITEMS: integer (nullable = true)\n",
      " |-- TOTAL_QUANTITY: double (nullable = true)\n",
      " |-- ADQUSAGE: double (nullable = true)\n",
      " |-- NIC: double (nullable = true)\n",
      " |-- ACTUAL_COST: double (nullable = true)\n",
      "\n",
      "Esquema amostra de Julho:\n",
      "Total de linhas:  585868 \n",
      "Total de colunas:  13\n",
      "root\n",
      " |-- YEAR_MONTH: integer (nullable = true)\n",
      " |-- REGIONAL_OFFICE_NAME: string (nullable = true)\n",
      " |-- ICB_NAME: string (nullable = true)\n",
      " |-- PCO_NAME: string (nullable = true)\n",
      " |-- PRACTICE_NAME: string (nullable = true)\n",
      " |-- CHEMICAL_SUBSTANCE_BNF_DESCR: string (nullable = true)\n",
      " |-- BNF_DESCRIPTION: string (nullable = true)\n",
      " |-- QUANTITY: double (nullable = true)\n",
      " |-- ITEMS: integer (nullable = true)\n",
      " |-- TOTAL_QUANTITY: double (nullable = true)\n",
      " |-- ADQUSAGE: double (nullable = true)\n",
      " |-- NIC: double (nullable = true)\n",
      " |-- ACTUAL_COST: double (nullable = true)\n",
      "\n",
      "Total de linhas repetidas e não adicionadas:  7\n"
     ]
    }
   ],
   "source": [
    "import schedule\n",
    "import time\n",
    "import pandas as pd\n",
    "import pyspark.sql.functions as func\n",
    "\n",
    "from pyspark.sql import SparkSession\n",
    "from pyspark.sql.functions import *\n",
    "\n",
    "import findspark\n",
    "findspark.init()\n",
    "findspark.find()\n",
    "import pyspark\n",
    "findspark.find()\n",
    "\n",
    "from pyspark import SparkContext, SparkConf\n",
    "from pyspark.sql import SparkSession\n",
    "conf = pyspark.SparkConf().setAppName('appName').setMaster('local')\n",
    "sc = pyspark.SparkContext(conf=conf)\n",
    "spark = SparkSession(sc)\n",
    "spark = SparkSession.builder.getOrCreate()\n",
    "\n",
    "\n",
    "def AgendarRotinaMensal():\n",
    "    df_amostra_ultimo = spark.read.csv(r'C:\\Users\\arthu\\Desktop\\EPD_202208-00.csv', sep = ',', inferSchema=True, header=True)\n",
    "    df_amostra_anterior = spark.read.csv(r'C:\\Users\\arthu\\Desktop\\EPD_202207-00.csv', sep = ',', inferSchema=True, header=True)\n",
    "    time.sleep(60)\n",
    "    \n",
    "    print(\"Esquema amostra de Agosto:\\n\"\n",
    "          \"Total de linhas: \", df_amostra_ultimo.count(),\"\\n\" # Conferindo se todas as linhas foram importadas por completo\n",
    "          \"Total de colunas: \", len(df_amostra_ultimo.columns)) \n",
    "    df_amostra_ultimo.printSchema()\n",
    "\n",
    "    print(\"Esquema amostra de Julho:\\n\"\n",
    "          \"Total de linhas: \", df_amostra_anterior.count(),\"\\n\" # Conferindo se todas as linhas foram importadas por completo\n",
    "          \"Total de colunas: \", len(df_amostra_anterior.columns)) \n",
    "    df_amostra_anterior.printSchema()\n",
    "    \n",
    "    time.sleep(30)\n",
    "\n",
    "    Rotina_mensal = df_amostra_anterior.union(df_amostra_ultimo).distinct()\n",
    "    time.sleep(30)\n",
    "\n",
    "    Rotina_mensal.toPandas().to_csv('Warehouse/Rotina_mensal.csv', index=False)\n",
    "    Rotina_mensal_pd = pd.read_csv(r'Warehouse/Rotina_mensal.csv')\n",
    "    time.sleep(30)\n",
    "\n",
    "    print(\"Total de linhas repetidas e não adicionadas: \",\n",
    "          df_amostra_ultimo.count()+df_amostra_anterior.count()-Rotina_mensal_pd.shape[0])\n",
    "\n",
    "schedule.every(30).days.do(AgendarRotinaMensal)\n",
    "\n",
    "while True:\n",
    "    schedule.run_pending()\n",
    "    time.sleep(6000)"
   ]
  }
 ],
 "metadata": {
  "kernelspec": {
   "display_name": "Python 3 (ipykernel)",
   "language": "python",
   "name": "python3"
  },
  "language_info": {
   "codemirror_mode": {
    "name": "ipython",
    "version": 3
   },
   "file_extension": ".py",
   "mimetype": "text/x-python",
   "name": "python",
   "nbconvert_exporter": "python",
   "pygments_lexer": "ipython3",
   "version": "3.8.8"
  }
 },
 "nbformat": 4,
 "nbformat_minor": 5
}
